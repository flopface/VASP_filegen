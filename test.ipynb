{
 "cells": [
  {
   "cell_type": "code",
   "execution_count": 20,
   "metadata": {},
   "outputs": [
    {
     "name": "stdout",
     "output_type": "stream",
     "text": [
      "Auto generated rocksalt structure: VN\n",
      "1.0\n",
      "        4.1195001602        0.0000000000        0.0000000000\n",
      "        0.0000000000        4.1195001602        0.0000000000\n",
      "        0.0000000000        0.0000000000        4.1195001602\n",
      "V    N\n",
      "4    4\n",
      "Direct\n",
      "        0.0000000000        0.0000000000        0.0000000000        #V\n",
      "        0.0000000000        0.5000000000        0.5000000000        #V\n",
      "        0.5000000000        0.0000000000        0.5000000000        #V\n",
      "        0.5000000000        0.5000000000        0.0000000000        #V\n",
      "        0.0000000000        0.0000000000        0.5000000000        #N\n",
      "        0.0000000000        0.5000000000        0.0000000000        #N\n",
      "        0.5000000000        0.0000000000        0.0000000000        #N\n",
      "        0.5000000000        0.5000000000        0.5000000000        #N\n",
      "\n"
     ]
    }
   ],
   "source": [
    "import numpy as dumpy\n",
    " \n",
    "def make_grid(size):\n",
    "  grid = dumpy.zeros((dumpy.prod(size), 3))\n",
    "  count = 0\n",
    "  for i in range(size[0]):\n",
    "    for j in range(size[1]):\n",
    "      for k in range(size[2]):\n",
    "        grid[count] = i, j, k\n",
    "        count += 1\n",
    "  return grid.astype(int)\n",
    " \n",
    "def make_rocksalt(size):\n",
    "  grid = make_grid(size)\n",
    "  metal = dumpy.zeros((0, 3))\n",
    "  non_metal = dumpy.zeros((0, 3))\n",
    " \n",
    "  for line in grid:\n",
    "    if sum(line) % 2 == 0:\n",
    "      metal = dumpy.vstack([metal, line])\n",
    "    else: non_metal = dumpy.vstack([non_metal, line])\n",
    " \n",
    "  ordered_grid = dumpy.vstack([metal, non_metal])\n",
    "  return ordered_grid/size, len(metal), len(non_metal)\n",
    " \n",
    "def create_poscar(size, dist, metal_name, non_metal_name):\n",
    "  if type(size) == type(420): size = [size, size, size]\n",
    "  if (type(dist) == type(69)) or (type(dist) == type(3.1415)): dist = [dist, dist, dist]\n",
    "  grid, n_metals, n_non_metals = make_rocksalt(size)\n",
    "  spaces_names = int(5-len(metal_name))*' '\n",
    "  spaces_nums = int(4-dumpy.floor(dumpy.log10(n_metals)))*' '\n",
    "  print(f'Auto generated rocksalt structure: {metal_name}{non_metal_name}\\n'\n",
    "         '1.0\\n'\n",
    "        f'        {size[0]*dist[0]:#.11g}        0.0000000000        0.0000000000\\n'\n",
    "        f'        0.0000000000        {size[1]*dist[1]:#.11g}        0.0000000000\\n'\n",
    "        f'        0.0000000000        0.0000000000        {size[2]*dist[2]:#.11g}\\n'\n",
    "        f'{metal_name}{spaces_names}{non_metal_name}\\n'\n",
    "        f'{n_metals}{spaces_nums}{n_non_metals}\\n'\n",
    "         'Direct')\n",
    "  for line in grid[:n_metals]:\n",
    "    print(f'        {line[0]:.10f}        {line[1]:.10f}        {line[2]:.10f}        #{metal_name}')\n",
    "  for line in grid[n_metals:]:\n",
    "    print(f'        {line[0]:.10f}        {line[1]:.10f}        {line[2]:.10f}        #{non_metal_name}')\n",
    "  print()\n",
    " \n",
    "create_poscar(2, 2.0597500801000002, 'V', 'N') # Inputs are [gridsize, distance between atoms (not lattice constant), metal symbol, non-metal symbol]\n",
    "#create_poscar([2,2,3], [2.059, 3.124, 421.2], 'Ti', 'C') # Gridsize and distance between atoms can be lists if the metal is assymetric or you want a 4x3x2 grid or something\n",
    " "
   ]
  },
  {
   "cell_type": "code",
   "execution_count": 22,
   "metadata": {},
   "outputs": [
    {
     "name": "stdout",
     "output_type": "stream",
     "text": [
      "Auto generated rocksalt structure: VN\n",
      "1.0\n",
      "        4.1020000000        0.0000000000        0.0000000000\n",
      "        0.0000000000        8.2040000000        0.0000000000\n",
      "        0.0000000000        0.0000000000        4.1020000000\n",
      "V    N\n",
      "8    8\n",
      "Direct\n",
      "        0.0000000000        0.0000000000        0.0000000000        #V\n",
      "        0.0000000000        0.2500000000        0.5000000000        #V\n",
      "        0.0000000000        0.5000000000        0.0000000000        #V\n",
      "        0.0000000000        0.7500000000        0.5000000000        #V\n",
      "        0.5000000000        0.0000000000        0.5000000000        #V\n",
      "        0.5000000000        0.2500000000        0.0000000000        #V\n",
      "        0.5000000000        0.5000000000        0.5000000000        #V\n",
      "        0.5000000000        0.7500000000        0.0000000000        #V\n",
      "        0.0000000000        0.0000000000        0.5000000000        #N\n",
      "        0.0000000000        0.2500000000        0.0000000000        #N\n",
      "        0.0000000000        0.5000000000        0.5000000000        #N\n",
      "        0.0000000000        0.7500000000        0.0000000000        #N\n",
      "        0.5000000000        0.0000000000        0.0000000000        #N\n",
      "        0.5000000000        0.2500000000        0.5000000000        #N\n",
      "        0.5000000000        0.5000000000        0.0000000000        #N\n",
      "        0.5000000000        0.7500000000        0.5000000000        #N\n",
      "\n"
     ]
    }
   ],
   "source": [
    "def poscar(m_symbol, x_symbol, lattic_param, nx, ny, nz):\n",
    "\n",
    "  atoms = 4*nx*ny*nz\n",
    "  spaces_names = int(5-len(m_symbol))*' '\n",
    "  spaces_nums = int(4-dumpy.floor(dumpy.log10(atoms)))*' '\n",
    "\n",
    "  file_content = f'Auto generated rocksalt structure: {m_symbol}{x_symbol}\\n1.0\\n'\\\n",
    "                 f'        {lattic_param*nx:#.11g}        0.0000000000        0.0000000000\\n'\\\n",
    "                 f'        0.0000000000        {lattic_param*ny:#.11g}        0.0000000000\\n'\\\n",
    "                 f'        0.0000000000        0.0000000000        {lattic_param*nz:#.11g}\\n'\\\n",
    "                 f'{m_symbol}{spaces_names}{x_symbol}\\n'\\\n",
    "                 f'{atoms}{spaces_nums}{atoms}\\nDirect\\n'\n",
    "  \n",
    "  m_locs = ''\n",
    "  x_locs = ''\n",
    "\n",
    "  for i in range(2*nx):\n",
    "    for j in range(2*ny):\n",
    "      for k in range(2*nz):\n",
    "        if (i + j + k) % 2 == 0:\n",
    "          m_locs += f'        {i/(2*nx):.10f}        {j/(2*ny):.10f}        {k/(2*nz):.10f}        #{m_symbol}\\n'\n",
    "        else:\n",
    "          x_locs += f'        {i/(2*nx):.10f}        {j/(2*ny):.10f}        {k/(2*nz):.10f}        #{x_symbol}\\n'\n",
    "  \n",
    "  file_content = file_content + m_locs + x_locs\n",
    "\n",
    "  print(file_content)\n",
    "  \n",
    "\n",
    "\n",
    "poscar('V', 'N', 4.102, 1, 2, 1)"
   ]
  },
  {
   "cell_type": "code",
   "execution_count": 27,
   "metadata": {},
   "outputs": [
    {
     "name": "stdout",
     "output_type": "stream",
     "text": [
      "123\n"
     ]
    }
   ],
   "source": [
    "x = 123\n",
    "\n",
    "x = x // 1\n",
    "\n",
    "print(x)"
   ]
  },
  {
   "cell_type": "code",
   "execution_count": 29,
   "metadata": {},
   "outputs": [
    {
     "ename": "IndentationError",
     "evalue": "expected an indented block after function definition on line 1 (3908397690.py, line 3)",
     "output_type": "error",
     "traceback": [
      "\u001b[0;36m  Cell \u001b[0;32mIn[29], line 3\u001b[0;36m\u001b[0m\n\u001b[0;31m    123\u001b[0m\n\u001b[0m    ^\u001b[0m\n\u001b[0;31mIndentationError\u001b[0m\u001b[0;31m:\u001b[0m expected an indented block after function definition on line 1\n"
     ]
    }
   ],
   "source": [
    "def count_digits(num):\n",
    "    return len(str(num))\n",
    "\n",
    "\n",
    "count_digits(1245)\n",
    "\n"
   ]
  },
  {
   "cell_type": "code",
   "execution_count": null,
   "metadata": {},
   "outputs": [],
   "source": []
  }
 ],
 "metadata": {
  "kernelspec": {
   "display_name": "Python 3",
   "language": "python",
   "name": "python3"
  },
  "language_info": {
   "codemirror_mode": {
    "name": "ipython",
    "version": 3
   },
   "file_extension": ".py",
   "mimetype": "text/x-python",
   "name": "python",
   "nbconvert_exporter": "python",
   "pygments_lexer": "ipython3",
   "version": "3.12.1"
  },
  "orig_nbformat": 4
 },
 "nbformat": 4,
 "nbformat_minor": 2
}
